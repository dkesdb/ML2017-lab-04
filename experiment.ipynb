{
 "cells": [
  {
   "cell_type": "code",
   "execution_count": 13,
   "metadata": {
    "collapsed": true
   },
   "outputs": [],
   "source": [
    "from sklearn.datasets import load_svmlight_file\n",
    "from sklearn.model_selection import train_test_split\n",
    "from numpy import *\n",
    "import numpy as np\n",
    "import scipy\n",
    "import matplotlib.pyplot as plt"
   ]
  },
  {
   "cell_type": "code",
   "execution_count": 14,
   "metadata": {
    "collapsed": true
   },
   "outputs": [],
   "source": [
    "def data_in(fileName,feature_num = 0):\n",
    "\n",
    "    data = []\n",
    "    with open(fileName) as f:\n",
    "        for i in f.readlines():\n",
    "            (user,movieid,rating,ts)=i.split('\\t')\n",
    "            data.append([int(user),int(movieid),float(rating)])\n",
    "    user_num = int(np.max(data,axis = 0)[0]) \n",
    "    item_num = int(np.max(data,axis = 0)[1]) \n",
    "    item_num= max(int(feature_num),item_num)\n",
    "\n",
    "    score = mat(zeros((user_num,item_num)))\n",
    "    for i in data:\n",
    "        user = i[0]-1\n",
    "        item = i[1]-1\n",
    "        score[user,item] = i[2]\n",
    "    return score\n",
    "\n",
    "trainMat = data_in(\"./u1.base\")\n",
    "testMat = data_in(\"./u1.test\",trainMat.shape[1])\n",
    "\n",
    "def loss(P,Q,rate,p = 100 , q = 100):\n",
    "    a = rate - P*Q\n",
    "    m,n = rate.shape\n",
    "    return (sum(power(a,2))/(m+n) + p * sum(power(P,2))/m + q* sum(power(Q,2)))/n\n",
    "\n",
    "def RMSE(P,Q,rate):\n",
    "    left=sum(power(rate - P*Q , 2))\n",
    "    right=rate.shape[0]+rate.shape[1]\n",
    "    total=left/right\n",
    "    return total"
   ]
  },
  {
   "cell_type": "code",
   "execution_count": 15,
   "metadata": {
    "collapsed": true
   },
   "outputs": [],
   "source": [
    "#随机梯度下降\n",
    "def SGD(X,alpha = 0.05,k = 20,iteration = 1000,p =  0.02 , q =  0.02):\n",
    "    m,n = X.shape\n",
    "    P = mat(random.normal(size=(m,k))) #用户因子矩阵\n",
    "    Q = mat(random.normal(size=(k,n))) #物品因子矩阵\n",
    "    loss_list = []\n",
    "    iter_list = []\n",
    "    rmse_list = []\n",
    "    for i in range(iteration):\n",
    "        #随机选择用户评分矩阵中的一个sample\n",
    "        u = random.randint(0,m)\n",
    "        E = X[u,:] - P[u,:] * Q[:,:]\n",
    "        #损失函数值对用户因子矩阵某一行（列）和物品因子矩阵某一行（列）的梯度\n",
    "        grad_p = E * (-Q[:,:].T) + p *  P[u,:]\n",
    "        grad_q =(-P[u,:].T)*E +q * Q[:,:]/n\n",
    "        #更新梯度\n",
    "        P[u,:] -= alpha * grad_p\n",
    "        Q[:,:] -= alpha * grad_q\n",
    "        \n",
    "        loss_result = loss(P,Q,X,p,q)\n",
    "        iter_list.append(i)\n",
    "        loss_list.append(loss_result)\n",
    "        rmse_list.append(RMSE(P,Q,X))\n",
    "    return iter_list,loss_list,rmse_list"
   ]
  },
  {
   "cell_type": "code",
   "execution_count": 16,
   "metadata": {
    "collapsed": true
   },
   "outputs": [],
   "source": [
    "iter_list,loss_list,rmse_list = SGD(trainMat,\n",
    "    alpha = 0.001,k = 20,iteration = 1000,p = 0.02,\n",
    "           q = 0.02)"
   ]
  },
  {
   "cell_type": "code",
   "execution_count": 17,
   "metadata": {
    "scrolled": true
   },
   "outputs": [
    {
     "data": {
      "image/png": "[encoded data removed]",
      "text/plain": [
       "<matplotlib.figure.Figure at 0x91ec7e8c50>"
      ]
     },
     "metadata": {},
     "output_type": "display_data"
    }
   ],
   "source": [
    "plt.figure()\n",
    "plt.xlabel('iter_times')  \n",
    "plt.ylabel('loss')\n",
    "plt.plot(iter_list,rmse_list,linewidth = 1.0,label = \"training\")\n",
    "plt.legend()\n",
    "plt.show()"
   ]
  }
 ],
 "metadata": {
  "kernelspec": {
   "display_name": "Python 3",
   "language": "python",
   "name": "python3"
  },
  "language_info": {
   "codemirror_mode": {
    "name": "ipython",
    "version": 3
   },
   "file_extension": ".py",
   "mimetype": "text/x-python",
   "name": "python",
   "nbconvert_exporter": "python",
   "pygments_lexer": "ipython3",
   "version": "3.6.2"
  }
 },
 "nbformat": 4,
 "nbformat_minor": 2
}
